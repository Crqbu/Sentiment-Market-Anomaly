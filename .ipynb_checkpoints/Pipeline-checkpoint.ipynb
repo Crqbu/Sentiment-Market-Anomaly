{
 "cells": [
  {
   "cell_type": "markdown",
   "metadata": {},
   "source": [
    "# Big data project pipeline"
   ]
  },
  {
   "cell_type": "markdown",
   "metadata": {},
   "source": [
    "## Overview\n",
    "\n",
    "1. Dataset: FNSPID\n",
    "2. Sentiment generator:  e.g. distilroberta, finBERT, Vader\n",
    "3. Basic methodology: transfer entropy\n",
    "4. Strategy type: statistic arbitrage"
   ]
  },
  {
   "cell_type": "markdown",
   "metadata": {},
   "source": [
    "## Pipeline step-by-step"
   ]
  },
  {
   "cell_type": "markdown",
   "metadata": {},
   "source": [
    "1. News-data Preprocessing\n",
    "\n",
    "Assume that the dataset of the news is a constant flow of the news, then we try to construct a stochastic process on sentiment: use distrillroberta to generate sentiment(positive, neutral, negative) of the news headline and labelled the as (1, 0, -1) scores. Noted that the news are always released in two ways: one is that the news are released at midnight(or non-trading time) in batches, the others are released during trading time without batches(a flow-released news). For batch-released news, average the sentiment score.\n",
    "\n",
    "THe formula for the stochastic process is be written as \n",
    "\n",
    "$$\n",
    "I_t^s = \\sum_{j} g(f(e_{jt}^{s})), \n",
    "g(x) = \\begin{cases} 1, x = \"Positive\"\\\\\n",
    "0, x = \"Neutral\"\\\\\n",
    "-1, x = \"Negative\"\\\\\n",
    "\\end{cases},\n",
    "\n",
    "f(x) = roBERTa(x),\n",
    "\n",
    "$$\n",
    "\n",
    "$f(x)$ is the pretrained sentiment classifier. $e_{jt}^{s}$ means the $j$-th embedding of the news headline at time $t$ for the stock $s$.\n",
    "\n",
    "**Note**: time $t$ is not the natural time for trading, but it's proxy time interval between the new release, and it differs from stock to stock. Think of it as some sort of jump process.\n"
   ]
  },
  {
   "cell_type": "markdown",
   "metadata": {
    "vscode": {
     "languageId": "plaintext"
    }
   },
   "source": [
    "2. Price-data preprocessing\n",
    "\n",
    "Discretize the tick-by-tick data to align with the news-data, by identifying the return of the price. When the batch news are released in non-trading time, assume that the traders in the market will react to the news as soon as the trading time starts, for flow-released news, assume that the market participants will react as soon as the information of the news is understood. There will be two hyperparameter: the time-lag between the new release and the market reaction, and the fixed timeframe that uses to calculate the return of the price. Set the return of the stock as positive, stable and negative under a threshold and label it as (1,0,-1). Then we construct a stochastic process for stock return.\n",
    "\n",
    "The formula for the stochastic process of the discretized return can be written as \n",
    "\n",
    "$$\n",
    "R_{t}^{s} = h(\\log \\frac{P_{t + \\delta}^{s}}{P_{t}^{s}}), \n",
    "\n",
    "h(x) = \\begin{cases}1, x > \\gamma \\\\ 0, \\|x\\| \\leq \\gamma \\\\ -1, x < -\\gamma\\end{cases},\n",
    "\n",
    "\\gamma, \\delta > 0\n",
    "$$\n",
    "\n",
    "$P_{t}^{s}$ is the price of stock $s$ at time $t$, $\\delta$ is the timeframe for the return calculation, $\\gamma$ is the threshold of classifying the return."
   ]
  },
  {
   "cell_type": "markdown",
   "metadata": {},
   "source": [
    "3.  Get transfer entropy\n",
    "\n",
    "After we construct on the two stochastic processes $I_{t}^{s}$ and $R_{t}^{s}$, calculate the transfer entropy of the two random processes\n",
    "\n",
    "$$\n",
    "TE(I_{t}^{s}, R_{t+\\Delta}^{s} | t - \\lambda : t)\n",
    "$$\n",
    "\n",
    "The transfer entropy is revised to be a **lagged-$\\Delta$ conditional/local transfer entropy**, which $\\Delta$ is the lagged time for the market participants to react on the news release, and $\\lambda$ is the fixed time window on the local/conditional entropy."
   ]
  },
  {
   "cell_type": "markdown",
   "metadata": {},
   "source": [
    "4. Design trading strategy\n",
    "\n",
    "Based on the sentiment process $I_{s}^{t}$ and the transfer entropy $TE(I_{t}^{s}, R_{t+\\Delta}^{s} | t - \\lambda : t)$ , design a statistic arbitrage trading strategy **(only one idea)** as follows:\n",
    "\n",
    "````python\n",
    "if (sentiment_score > 0) & (TE>threshold):\n",
    "    buy stock at time t\n",
    "    sell stock at time t + gamma\n",
    "elif (sentiment_score < 0) & (TE>threshold):\n",
    "    short sell stock at time t\n",
    "    buy back stock at time t + gamma\n",
    "else:\n",
    "    continue\n",
    "````\n",
    "\n",
    "The ``threshold`` can be written as $\\alpha$ for further demonstration.\n",
    "\n",
    "The strategy can be also revised to be a long-short strategy.\n"
   ]
  },
  {
   "cell_type": "markdown",
   "metadata": {},
   "source": [
    "5. Calibration and train-validation-test split\n",
    "\n",
    "Based on the arbitrage strategy, we have several hyperparameters to ba calibrated: $\\delta, \\gamma, \\Delta, \\lambda, \\alpha$. The hyperparameters should be calibrated using the in-sample training set and validation set, and perform stimulation trading on the out-of-sample test set. The size of the whole train-validation-test set should be fixed and moved along the time with the moving interval to be the exact size of the test set, only using the most recent data and construct a trading performance over the whole dataframe.\n",
    "\n",
    "Within one single train-validation-test set, the best hyperparameters for each stock $s$ are found based on the Sharpe ratio of the strategy in the **validation set**. The way of finding the best hyperparameters should be done by grid search."
   ]
  },
  {
   "cell_type": "markdown",
   "metadata": {},
   "source": [
    "6. Trading strategy enhancement\n",
    "\n",
    "The construction of the trading strategy can be firstly started that only uses batch news released on non-trading time and set the holding period of the stock to be 1 trading day(daily-trading frequency). Then we incorporate flow news released on trading time to construct on the intraday trading strategy.\n",
    "\n",
    "We can test on different sentiment classifier as their response time is different, and pay attention to the data process accleration methods the course is taught to enhance the speed of the code. \n",
    "\n",
    "We can also move to construct on industry-ETF rather than single stocks as our trading underlying equities."
   ]
  },
  {
   "cell_type": "markdown",
   "metadata": {},
   "source": [
    "7. Data acquisition\n",
    "\n",
    "The already made dataset FNSPID can be used, but notice that the github repo the FNSPID authors provided has the code to scrape headline data, so maybe update the old dataset is an option."
   ]
  },
  {
   "cell_type": "markdown",
   "metadata": {},
   "source": []
  },
  {
   "cell_type": "markdown",
   "metadata": {},
   "source": []
  }
 ],
 "metadata": {
  "kernelspec": {
   "display_name": "Python 3 (ipykernel)",
   "language": "python",
   "name": "python3"
  },
  "language_info": {
   "codemirror_mode": {
    "name": "ipython",
    "version": 3
   },
   "file_extension": ".py",
   "mimetype": "text/x-python",
   "name": "python",
   "nbconvert_exporter": "python",
   "pygments_lexer": "ipython3",
   "version": "3.9.12"
  }
 },
 "nbformat": 4,
 "nbformat_minor": 2
}
