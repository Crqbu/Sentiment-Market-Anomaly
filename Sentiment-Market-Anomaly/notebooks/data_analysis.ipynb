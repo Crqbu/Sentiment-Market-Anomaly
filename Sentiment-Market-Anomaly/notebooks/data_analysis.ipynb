{
 "cells": [
  {
   "cell_type": "code",
   "execution_count": 1,
   "metadata": {},
   "outputs": [
    {
     "name": "stderr",
     "output_type": "stream",
     "text": [
      "c:\\Users\\Mert\\anaconda3\\Lib\\site-packages\\pandas\\core\\arrays\\masked.py:60: UserWarning: Pandas requires version '1.3.6' or newer of 'bottleneck' (version '1.3.5' currently installed).\n",
      "  from pandas.core import (\n"
     ]
    }
   ],
   "source": [
    "import polars as pl\n",
    "import pandas as pd\n",
    "from langdetect import detect, DetectorFactory\n",
    "from langdetect.lang_detect_exception import LangDetectException"
   ]
  },
  {
   "cell_type": "code",
   "execution_count": 20,
   "metadata": {},
   "outputs": [],
   "source": [
    "lazy_df_1 = pl.scan_csv(r\"C:\\Users\\Mert\\OneDrive\\Desktop\\Courses\\Financial Big Data\\data\\All_external.csv\")"
   ]
  },
  {
   "cell_type": "code",
   "execution_count": 5,
   "metadata": {},
   "outputs": [],
   "source": [
    "lazy_df_2 = pl.scan_csv(r\"C:\\Users\\Mert\\OneDrive\\Desktop\\Courses\\Financial Big Data\\data\\nasdaq_exteral_data.csv\")"
   ]
  },
  {
   "cell_type": "code",
   "execution_count": 6,
   "metadata": {},
   "outputs": [
    {
     "name": "stderr",
     "output_type": "stream",
     "text": [
      "C:\\Users\\Mert\\AppData\\Local\\Temp\\ipykernel_48184\\2180188756.py:1: PerformanceWarning: Determining the column names of a LazyFrame requires resolving its schema, which is a potentially expensive operation. Use `LazyFrame.collect_schema().names()` to get the column names without this warning.\n",
      "  lazy_df_2.columns\n"
     ]
    },
    {
     "data": {
      "text/plain": [
       "['Unnamed: 0',\n",
       " 'Date',\n",
       " 'Article_title',\n",
       " 'Stock_symbol',\n",
       " 'Url',\n",
       " 'Publisher',\n",
       " 'Author',\n",
       " 'Article',\n",
       " 'Lsa_summary',\n",
       " 'Luhn_summary',\n",
       " 'Textrank_summary',\n",
       " 'Lexrank_summary']"
      ]
     },
     "execution_count": 6,
     "metadata": {},
     "output_type": "execute_result"
    }
   ],
   "source": [
    "lazy_df_2.columns"
   ]
  },
  {
   "cell_type": "code",
   "execution_count": 8,
   "metadata": {},
   "outputs": [
    {
     "name": "stdout",
     "output_type": "stream",
     "text": [
      "shape: (9_338, 3)\n",
      "┌─────────────────────┬──────────────┬─────────────────────────────────┐\n",
      "│ Date                ┆ Stock_symbol ┆ Article_title                   │\n",
      "│ ---                 ┆ ---          ┆ ---                             │\n",
      "│ datetime[μs]        ┆ str          ┆ str                             │\n",
      "╞═════════════════════╪══════════════╪═════════════════════════════════╡\n",
      "│ 2023-12-16 22:00:00 ┆ AAPL         ┆ My 6 Largest Portfolio Holding… │\n",
      "│ 2023-12-16 22:00:00 ┆ AAPL         ┆ Brokers Suggest Investing in A… │\n",
      "│ 2023-12-16 21:00:00 ┆ AAPL         ┆ Company News for Dec 19, 2023   │\n",
      "│ 2023-12-16 21:00:00 ┆ AAPL         ┆ NVIDIA (NVDA) Up 243% YTD: Wil… │\n",
      "│ 2023-12-16 21:00:00 ┆ AAPL         ┆ Pre-Market Most Active for Dec… │\n",
      "│ …                   ┆ …            ┆ …                               │\n",
      "│ 2020-05-28 00:00:00 ┆ AAPL         ┆ The Zacks Analyst Blog Highlig… │\n",
      "│ 2020-05-28 00:00:00 ┆ AAPL         ┆ Growth Stocks for 2020: Tradin… │\n",
      "│ 2020-05-28 00:00:00 ┆ AAPL         ┆ Stocks Are Struggling To Post … │\n",
      "│ 2020-05-28 00:00:00 ┆ AAPL         ┆ Swiss National Bank Ready To B… │\n",
      "│ 2020-05-27 00:00:00 ┆ AAPL         ┆ The Topsy-Turvy S&P 500 Earnin… │\n",
      "└─────────────────────┴──────────────┴─────────────────────────────────┘\n"
     ]
    }
   ],
   "source": [
    "filtered_df = (\n",
    "    lazy_df_2\n",
    "    .select([\"Date\", \"Stock_symbol\", \"Article_title\"])  # Select specific columns\n",
    "    .filter(pl.col(\"Article_title\").is_not_null())  # Filter null values\n",
    "    .filter(pl.col(\"Stock_symbol\") == \"AAPL\")  # Filter Stock_symbol == AAPL \n",
    "    .with_columns(pl.col(\"Date\").str.to_datetime(\"%Y-%m-%d %H:%M:%S UTC\"))  # Convert Date to proper datetime format\n",
    ")\n",
    "\n",
    "# Collect the LazyFrame into a regular DataFrame\n",
    "result_df = filtered_df.collect()\n"
   ]
  },
  {
   "cell_type": "code",
   "execution_count": 11,
   "metadata": {},
   "outputs": [
    {
     "data": {
      "text/html": [
       "<div>\n",
       "<style scoped>\n",
       "    .dataframe tbody tr th:only-of-type {\n",
       "        vertical-align: middle;\n",
       "    }\n",
       "\n",
       "    .dataframe tbody tr th {\n",
       "        vertical-align: top;\n",
       "    }\n",
       "\n",
       "    .dataframe thead th {\n",
       "        text-align: right;\n",
       "    }\n",
       "</style>\n",
       "<table border=\"1\" class=\"dataframe\">\n",
       "  <thead>\n",
       "    <tr style=\"text-align: right;\">\n",
       "      <th></th>\n",
       "      <th>Date</th>\n",
       "      <th>Stock_Symbol</th>\n",
       "      <th>Article_title</th>\n",
       "    </tr>\n",
       "  </thead>\n",
       "  <tbody>\n",
       "    <tr>\n",
       "      <th>0</th>\n",
       "      <td>2023-12-16 22:00:00</td>\n",
       "      <td>AAPL</td>\n",
       "      <td>My 6 Largest Portfolio Holdings Heading Into 2...</td>\n",
       "    </tr>\n",
       "    <tr>\n",
       "      <th>1</th>\n",
       "      <td>2023-12-16 22:00:00</td>\n",
       "      <td>AAPL</td>\n",
       "      <td>Brokers Suggest Investing in Apple (AAPL): Rea...</td>\n",
       "    </tr>\n",
       "    <tr>\n",
       "      <th>2</th>\n",
       "      <td>2023-12-16 21:00:00</td>\n",
       "      <td>AAPL</td>\n",
       "      <td>Company News for Dec 19, 2023</td>\n",
       "    </tr>\n",
       "    <tr>\n",
       "      <th>3</th>\n",
       "      <td>2023-12-16 21:00:00</td>\n",
       "      <td>AAPL</td>\n",
       "      <td>NVIDIA (NVDA) Up 243% YTD: Will It Carry Momen...</td>\n",
       "    </tr>\n",
       "    <tr>\n",
       "      <th>4</th>\n",
       "      <td>2023-12-16 21:00:00</td>\n",
       "      <td>AAPL</td>\n",
       "      <td>Pre-Market Most Active for Dec 19, 2023 : BMY,...</td>\n",
       "    </tr>\n",
       "    <tr>\n",
       "      <th>...</th>\n",
       "      <td>...</td>\n",
       "      <td>...</td>\n",
       "      <td>...</td>\n",
       "    </tr>\n",
       "    <tr>\n",
       "      <th>9333</th>\n",
       "      <td>2020-05-28 00:00:00</td>\n",
       "      <td>AAPL</td>\n",
       "      <td>The Zacks Analyst Blog Highlights: Apple, Exxo...</td>\n",
       "    </tr>\n",
       "    <tr>\n",
       "      <th>9334</th>\n",
       "      <td>2020-05-28 00:00:00</td>\n",
       "      <td>AAPL</td>\n",
       "      <td>Growth Stocks for 2020: Trading Tech Stocks + ...</td>\n",
       "    </tr>\n",
       "    <tr>\n",
       "      <th>9335</th>\n",
       "      <td>2020-05-28 00:00:00</td>\n",
       "      <td>AAPL</td>\n",
       "      <td>Stocks Are Struggling To Post Gains On May 28 ...</td>\n",
       "    </tr>\n",
       "    <tr>\n",
       "      <th>9336</th>\n",
       "      <td>2020-05-28 00:00:00</td>\n",
       "      <td>AAPL</td>\n",
       "      <td>Swiss National Bank Ready To Buy Much More Tec...</td>\n",
       "    </tr>\n",
       "    <tr>\n",
       "      <th>9337</th>\n",
       "      <td>2020-05-27 00:00:00</td>\n",
       "      <td>AAPL</td>\n",
       "      <td>The Topsy-Turvy S&amp;P 500 Earnings Picture</td>\n",
       "    </tr>\n",
       "  </tbody>\n",
       "</table>\n",
       "<p>9141 rows × 3 columns</p>\n",
       "</div>"
      ],
      "text/plain": [
       "                    Date Stock_Symbol  \\\n",
       "0    2023-12-16 22:00:00         AAPL   \n",
       "1    2023-12-16 22:00:00         AAPL   \n",
       "2    2023-12-16 21:00:00         AAPL   \n",
       "3    2023-12-16 21:00:00         AAPL   \n",
       "4    2023-12-16 21:00:00         AAPL   \n",
       "...                  ...          ...   \n",
       "9333 2020-05-28 00:00:00         AAPL   \n",
       "9334 2020-05-28 00:00:00         AAPL   \n",
       "9335 2020-05-28 00:00:00         AAPL   \n",
       "9336 2020-05-28 00:00:00         AAPL   \n",
       "9337 2020-05-27 00:00:00         AAPL   \n",
       "\n",
       "                                          Article_title  \n",
       "0     My 6 Largest Portfolio Holdings Heading Into 2...  \n",
       "1     Brokers Suggest Investing in Apple (AAPL): Rea...  \n",
       "2                         Company News for Dec 19, 2023  \n",
       "3     NVIDIA (NVDA) Up 243% YTD: Will It Carry Momen...  \n",
       "4     Pre-Market Most Active for Dec 19, 2023 : BMY,...  \n",
       "...                                                 ...  \n",
       "9333  The Zacks Analyst Blog Highlights: Apple, Exxo...  \n",
       "9334  Growth Stocks for 2020: Trading Tech Stocks + ...  \n",
       "9335  Stocks Are Struggling To Post Gains On May 28 ...  \n",
       "9336  Swiss National Bank Ready To Buy Much More Tec...  \n",
       "9337           The Topsy-Turvy S&P 500 Earnings Picture  \n",
       "\n",
       "[9141 rows x 3 columns]"
      ]
     },
     "execution_count": 11,
     "metadata": {},
     "output_type": "execute_result"
    }
   ],
   "source": [
    "a = pd.DataFrame(result_df)\n",
    "a = a.dropna().drop_duplicates()\n",
    "a = a.rename({0 : \"Date\",1 : \"Stock_Symbol\",2 : \"Article_title\"}, axis = 1)\n",
    "a"
   ]
  },
  {
   "cell_type": "code",
   "execution_count": 29,
   "metadata": {},
   "outputs": [
    {
     "data": {
      "text/plain": [
       "Timedelta('561 days 22:00:00')"
      ]
     },
     "execution_count": 29,
     "metadata": {},
     "output_type": "execute_result"
    }
   ],
   "source": [
    "pd.to_datetime(a[0].max()) - pd.to_datetime(a[0].min())"
   ]
  }
 ],
 "metadata": {
  "kernelspec": {
   "display_name": "base",
   "language": "python",
   "name": "python3"
  },
  "language_info": {
   "codemirror_mode": {
    "name": "ipython",
    "version": 3
   },
   "file_extension": ".py",
   "mimetype": "text/x-python",
   "name": "python",
   "nbconvert_exporter": "python",
   "pygments_lexer": "ipython3",
   "version": "3.11.5"
  }
 },
 "nbformat": 4,
 "nbformat_minor": 2
}
