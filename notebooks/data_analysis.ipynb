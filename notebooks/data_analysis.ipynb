{
 "cells": [
  {
   "cell_type": "code",
   "execution_count": 2,
   "metadata": {},
   "outputs": [
    {
     "name": "stderr",
     "output_type": "stream",
     "text": [
      "c:\\Users\\Mert\\anaconda3\\Lib\\site-packages\\pandas\\core\\arrays\\masked.py:60: UserWarning: Pandas requires version '1.3.6' or newer of 'bottleneck' (version '1.3.5' currently installed).\n",
      "  from pandas.core import (\n"
     ]
    }
   ],
   "source": [
    "import polars as pl\n",
    "import pandas as pd"
   ]
  },
  {
   "cell_type": "code",
   "execution_count": 3,
   "metadata": {},
   "outputs": [],
   "source": [
    "lazy_df = pl.scan_csv(r\"C:\\Users\\Mert\\OneDrive\\Desktop\\Courses\\Financial Big Data\\data\\nasdaq_exteral_data.csv\")"
   ]
  },
  {
   "cell_type": "code",
   "execution_count": 4,
   "metadata": {},
   "outputs": [
    {
     "name": "stderr",
     "output_type": "stream",
     "text": [
      "C:\\Users\\Mert\\AppData\\Local\\Temp\\ipykernel_26060\\4236129083.py:1: PerformanceWarning: Determining the column names of a LazyFrame requires resolving its schema, which is a potentially expensive operation. Use `LazyFrame.collect_schema().names()` to get the column names without this warning.\n",
      "  lazy_df.columns\n"
     ]
    },
    {
     "data": {
      "text/plain": [
       "['Unnamed: 0',\n",
       " 'Date',\n",
       " 'Article_title',\n",
       " 'Stock_symbol',\n",
       " 'Url',\n",
       " 'Publisher',\n",
       " 'Author',\n",
       " 'Article',\n",
       " 'Lsa_summary',\n",
       " 'Luhn_summary',\n",
       " 'Textrank_summary',\n",
       " 'Lexrank_summary']"
      ]
     },
     "execution_count": 4,
     "metadata": {},
     "output_type": "execute_result"
    }
   ],
   "source": [
    "lazy_df.columns"
   ]
  },
  {
   "cell_type": "code",
   "execution_count": 5,
   "metadata": {},
   "outputs": [],
   "source": [
    "filtered_df = (\n",
    "    lazy_df\n",
    "    .select([\"Date\", \"Stock_symbol\", \"Article_title\"])  # Select specific columns\n",
    "    .filter(pl.col(\"Article_title\").is_not_null())  # Filter null values\n",
    "    .filter(pl.col(\"Stock_symbol\") == \"AAPL\")  # Filter Stock_symbol == AAPL \n",
    "    .with_columns(pl.col(\"Date\").str.to_datetime(\"%Y-%m-%d %H:%M:%S UTC\"))  # Convert Date to proper datetime format\n",
    ")"
   ]
  },
  {
   "cell_type": "code",
   "execution_count": null,
   "metadata": {},
   "outputs": [],
   "source": [
    "apple_df = (pd.DataFrame(filtered_df.collect())\n",
    "            .dropna()\n",
    "            .drop_duplicates()\n",
    "            .rename({0 : \"Date\",1 : \"Stock_Symbol\",2 : \"Article_title\"}, axis = 1)\n",
    "            )"
   ]
  },
  {
   "cell_type": "code",
   "execution_count": 10,
   "metadata": {},
   "outputs": [],
   "source": [
    "apple_df.to_csv(\"../data/apple_news.csv\")"
   ]
  }
 ],
 "metadata": {
  "kernelspec": {
   "display_name": "base",
   "language": "python",
   "name": "python3"
  },
  "language_info": {
   "codemirror_mode": {
    "name": "ipython",
    "version": 3
   },
   "file_extension": ".py",
   "mimetype": "text/x-python",
   "name": "python",
   "nbconvert_exporter": "python",
   "pygments_lexer": "ipython3",
   "version": "3.11.5"
  }
 },
 "nbformat": 4,
 "nbformat_minor": 2
}
